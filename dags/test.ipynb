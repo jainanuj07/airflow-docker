{
 "cells": [
  {
   "cell_type": "code",
   "execution_count": 1,
   "id": "1db55990",
   "metadata": {},
   "outputs": [
    {
     "name": "stdout",
     "output_type": "stream",
     "text": [
      "Hello from Airflow\n"
     ]
    }
   ],
   "source": [
    "print(\"Hello from Airflow\")"
   ]
  },
  {
   "cell_type": "code",
   "execution_count": 2,
   "id": "f37eec51",
   "metadata": {},
   "outputs": [],
   "source": []
  },
  {
   "cell_type": "code",
   "execution_count": 3,
   "id": "f08b612f",
   "metadata": {},
   "outputs": [
    {
     "name": "stdout",
     "output_type": "stream",
     "text": [
      "the current date is 20210707\n"
     ]
    }
   ],
   "source": [
    "print(\"the current date is\",execution_date)"
   ]
  },
  {
   "cell_type": "code",
   "execution_count": null,
   "id": "65f950c8",
   "metadata": {},
   "outputs": [],
   "source": []
  }
 ],
 "metadata": {
  "kernelspec": {
   "display_name": "Python 3",
   "language": "python",
   "name": "python3"
  },
  "language_info": {
   "codemirror_mode": {
    "name": "ipython",
    "version": 3
   },
   "file_extension": ".py",
   "mimetype": "text/x-python",
   "name": "python",
   "nbconvert_exporter": "python",
   "pygments_lexer": "ipython3",
   "version": "3.6.13"
  }
 },
 "nbformat": 4,
 "nbformat_minor": 5
}
